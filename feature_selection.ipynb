{
 "cells": [
  {
   "cell_type": "code",
   "execution_count": 2,
   "metadata": {},
   "outputs": [],
   "source": [
    "# load needed libraries.\n",
    "import numpy as np\n",
    "import pandas as pd\n",
    "import numpy as np\n",
    "from sklearn.model_selection import train_test_split\n",
    "from sklearn.tree import DecisionTreeClassifier\n",
    "import matplotlib.pyplot as plt\n",
    "from sklearn.metrics import accuracy_score\n",
    "import matplotlib.pyplot as plt\n",
    "\n",
    "# sklearn utilities\n",
    "from sklearn import datasets\n",
    "from sklearn.model_selection import train_test_split\n",
    "from sklearn.metrics import confusion_matrix, classification_report\n",
    "from sklearn.tree import export_graphviz\n",
    "\n",
    "# sklearn models\n",
    "from sklearn.tree import DecisionTreeClassifier\n",
    "from sklearn.ensemble import RandomForestClassifier\n",
    "\n",
    "from six import StringIO\n",
    "import pydotplus"
   ]
  },
  {
   "cell_type": "code",
   "execution_count": 7,
   "metadata": {},
   "outputs": [],
   "source": [
    "# Load the data\n",
    "data = pd.read_csv('data/processed_features.csv')\n",
    "features = data.iloc[:, :len(data.columns) - 2]\n",
    "emotion_labels = data[\"target\"]\n",
    "intensity_labels = data[\"intensity\"]\n"
   ]
  },
  {
   "cell_type": "code",
   "execution_count": 10,
   "metadata": {},
   "outputs": [
    {
     "name": "stdout",
     "output_type": "stream",
     "text": [
      "Accuracy: 0.3765182186234818\n",
      "Accuracy: 0.3643724696356275\n"
     ]
    }
   ],
   "source": [
    "# Split the data into training and testing sets\n",
    "X_train_emo, X_test_emo, y_train_emo, y_test_emo = train_test_split(features, emotion_labels, test_size=0.2, random_state=42)\n",
    "X_train_in, X_test_in, y_train_in, y_test_in = train_test_split(features, emotion_labels, test_size=0.2, random_state=42)\n",
    "\n",
    "\n",
    "# Create a decision tree classifier\n",
    "clf_emo = DecisionTreeClassifier()\n",
    "clf_in = DecisionTreeClassifier()\n",
    "\n",
    "# Train the classifier on the training data\n",
    "clf_emo.fit(X_train_emo, y_train_emo)\n",
    "clf_in.fit(X_train_in, y_train_in)\n",
    "\n",
    "# Extract feature importance\n",
    "feature_importance_emo = clf_emo.feature_importances_\n",
    "feature_importance_in = clf_in.feature_importances_\n",
    "\n",
    "# Predict\n",
    "y_pred_emo = clf_emo.predict(X_test_emo)\n",
    "y_pred_in = clf_in.predict(X_test_in)\n",
    "\n",
    "\n",
    "accuracy_emo = accuracy_score(y_test_emo, y_pred_emo)\n",
    "print(\"Accuracy:\", accuracy_emo)\n",
    "accuracy_in = accuracy_score(y_test_in, y_pred_in)\n",
    "print(\"Accuracy:\", accuracy_in)\n",
    "\n",
    "\n",
    "# Visualize feature importance\n",
    "#plt.figure(figsize=(10, 6))\n",
    "#plt.barh(features.columns, feature_importance_emo)\n",
    "#plt.xlabel('Feature Importance')\n",
    "#plt.ylabel('Features')\n",
    "#plt.title('Decision Tree Feature Importance')\n",
    "#plt.show()\n",
    "\n",
    "#plt.figure(figsize=(10, 6))\n",
    "#plt.barh(features.columns, feature_importance_in)\n",
    "#plt.xlabel('Feature Importance')\n",
    "#plt.ylabel('Features')\n",
    "#plt.title('Decision Tree Feature Importance')\n",
    "#plt.show()"
   ]
  },
  {
   "cell_type": "code",
   "execution_count": null,
   "metadata": {},
   "outputs": [],
   "source": [
    "dot_data = StringIO()\n",
    "export_graphviz(clf_emo, out_file=dot_data,\n",
    "                filled=True, rounded=True,\n",
    "                special_characters=True,feature_names = features.columns,class_names=['No','Yes'])\n",
    "graph = pydotplus.graph_from_dot_data(dot_data.getvalue())\n",
    "graph.write_png('emotion_features_decision_tree.png')\n",
    "Image(graph.create_png())"
   ]
  },
  {
   "cell_type": "code",
   "execution_count": null,
   "metadata": {},
   "outputs": [],
   "source": [
    "dot_data = StringIO()\n",
    "export_graphviz(clf_in, out_file=dot_data,\n",
    "                filled=True, rounded=True,\n",
    "                special_characters=True,feature_names = features.columns,class_names=['No','Yes'])\n",
    "graph = pydotplus.graph_from_dot_data(dot_data.getvalue())\n",
    "graph.write_png('intensity_features_decision_tree.png')\n",
    "Image(graph.create_png())"
   ]
  }
 ],
 "metadata": {
  "kernelspec": {
   "display_name": "venv",
   "language": "python",
   "name": "python3"
  },
  "language_info": {
   "codemirror_mode": {
    "name": "ipython",
    "version": 3
   },
   "file_extension": ".py",
   "mimetype": "text/x-python",
   "name": "python",
   "nbconvert_exporter": "python",
   "pygments_lexer": "ipython3",
   "version": "3.11.6"
  }
 },
 "nbformat": 4,
 "nbformat_minor": 2
}
